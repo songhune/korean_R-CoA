{
 "cells": [
  {
   "cell_type": "code",
   "execution_count": 4,
   "id": "782cc9e0",
   "metadata": {},
   "outputs": [
    {
     "name": "stderr",
     "output_type": "stream",
     "text": [
      "/var/folders/57/27t8gd7n5z31s0wkt5qkb98r0000gn/T/ipykernel_58679/1527292973.py:33: FutureWarning: DataFrame.applymap has been deprecated. Use DataFrame.map instead.\n",
      "  df_cleaned = df.copy().applymap(lambda x: None if isinstance(x, str) and x.strip() == \"\" else x)\n",
      "/var/folders/57/27t8gd7n5z31s0wkt5qkb98r0000gn/T/ipykernel_58679/1527292973.py:33: FutureWarning: DataFrame.applymap has been deprecated. Use DataFrame.map instead.\n",
      "  df_cleaned = df.copy().applymap(lambda x: None if isinstance(x, str) and x.strip() == \"\" else x)\n",
      "/var/folders/57/27t8gd7n5z31s0wkt5qkb98r0000gn/T/ipykernel_58679/1527292973.py:33: FutureWarning: DataFrame.applymap has been deprecated. Use DataFrame.map instead.\n",
      "  df_cleaned = df.copy().applymap(lambda x: None if isinstance(x, str) and x.strip() == \"\" else x)\n"
     ]
    },
    {
     "name": "stdout",
     "output_type": "stream",
     "text": [
      "✅ 정제 완료. 저장 위치: gwashi_cleaned.xlsx\n"
     ]
    }
   ],
   "source": [
    "import pandas as pd\n",
    "from itertools import count\n",
    "import re\n",
    "\n",
    "# === 1. 엑셀 파일 불러오기 ===\n",
    "excel_path = \"/Users/songhune/Downloads/gwashi.xlsx\"\n",
    "xls = pd.ExcelFile(excel_path)\n",
    "sheets = {sheet: xls.parse(sheet) for sheet in xls.sheet_names}\n",
    "\n",
    "# === 2. 주요 텍스트 중심 엔티티 시트 정의 ===\n",
    "entity_sheets = ['Question', 'Exam(소대과)', 'Exam2(기타과거포함)']\n",
    "\n",
    "# === 3. surrogate ID 매핑 ===\n",
    "id_generator = (f\"Q{str(i).zfill(6)}\" for i in count(1))\n",
    "legacy_to_surrogate = {}\n",
    "\n",
    "for sheet in entity_sheets:\n",
    "    df = sheets[sheet]\n",
    "    if 'id' in df.columns:\n",
    "        for legacy_id in df['id'].dropna().unique():\n",
    "            if legacy_id not in legacy_to_surrogate:\n",
    "                legacy_to_surrogate[legacy_id] = next(id_generator)\n",
    "\n",
    "# === 4. 빈 행 제거 함수 ===\n",
    "def drop_empty_rows(df, core_columns=None):\n",
    "    if core_columns is None:\n",
    "        core_columns = ['id', 'contents', 'abstract', 'category', 'source']\n",
    "\n",
    "    # 실제 존재하는 컬럼만 사용\n",
    "    core_columns_present = [col for col in core_columns if col in df.columns]\n",
    "\n",
    "    # 공백만 포함된 셀은 NaN으로 간주\n",
    "    df_cleaned = df.copy().applymap(lambda x: None if isinstance(x, str) and x.strip() == \"\" else x)\n",
    "\n",
    "    # 지정 컬럼이 모두 NaN이면 제거\n",
    "    filtered = df_cleaned.dropna(subset=core_columns_present, how='all')\n",
    "    return filtered\n",
    "\n",
    "# === 5. 각 시트에 surrogate ID 적용 및 빈 행 제거 ===\n",
    "for sheet in entity_sheets:\n",
    "    df = sheets[sheet]\n",
    "    df = drop_empty_rows(df)\n",
    "    if 'id' in df.columns:\n",
    "        df['legacy_id'] = df['id']\n",
    "        df['id'] = df['id'].map(legacy_to_surrogate)\n",
    "    sheets[sheet] = df\n",
    "\n",
    "# === 6. 엣지 시트에서 ID 매핑 적용 (빈 행 제거 X) ===\n",
    "for sheet in xls.sheet_names:\n",
    "    if sheet.startswith(\"Edge\"):\n",
    "        df = sheets[sheet].copy()\n",
    "        for col in ['subject', 'object']:\n",
    "            if col in df.columns:\n",
    "                df[col] = df[col].map(legacy_to_surrogate).fillna(df[col])\n",
    "        sheets[sheet] = df\n",
    "\n",
    "# === 7. ID 매핑 테이블 추가 ===\n",
    "mapping_df = pd.DataFrame.from_dict(legacy_to_surrogate, orient='index', columns=['id'])\n",
    "mapping_df.index.name = 'legacy_id'\n",
    "sheets['id_mapping'] = mapping_df\n",
    "\n",
    "# === 8. 결과 저장 ===\n",
    "output_path = \"gwashi_cleaned.xlsx\"\n",
    "with pd.ExcelWriter(output_path) as writer:\n",
    "    for sheet_name, df in sheets.items():\n",
    "        df.to_excel(writer, sheet_name=sheet_name, index=False)\n",
    "\n",
    "print(f\"✅ 정제 완료. 저장 위치: {output_path}\")"
   ]
  },
  {
   "cell_type": "code",
   "execution_count": 7,
   "id": "39c537b6",
   "metadata": {},
   "outputs": [
    {
     "name": "stdout",
     "output_type": "stream",
     "text": [
      "✅ 필수 시트만 포함된 gwashi_minimal.xlsx 생성 완료.\n"
     ]
    }
   ],
   "source": [
    "import pandas as pd\n",
    "\n",
    "# 원본 파일 불러오기\n",
    "excel_path = \"/Users/songhune/Downloads/gwashi.xlsx\"\n",
    "xls = pd.ExcelFile(excel_path)\n",
    "all_sheets = {sheet: xls.parse(sheet) for sheet in xls.sheet_names}\n",
    "\n",
    "# 병합된 exam 만들기 (앞서 만든 함수 기반)\n",
    "exam1 = all_sheets.get('Exam(소대과)', pd.DataFrame()).copy()\n",
    "exam2 = all_sheets.get('Exam2(기타과거포함)', pd.DataFrame()).copy()\n",
    "merged = pd.merge(exam1, exam2, on='id', how='outer', suffixes=('_exam1', '_exam2'))\n",
    "\n",
    "# 컬럼 병합\n",
    "def coalesce(row, col): return row.get(f\"{col}_exam2\") if pd.notna(row.get(f\"{col}_exam2\")) else row.get(f\"{col}_exam1\")\n",
    "candidate_columns = {col.replace('_exam1', '') for col in merged.columns if '_exam1' in col} | \\\n",
    "                    {col.replace('_exam2', '') for col in merged.columns if '_exam2' in col}\n",
    "for col in candidate_columns:\n",
    "    merged[col] = merged.apply(lambda r: coalesce(r, col), axis=1)\n",
    "merged_exam = merged[['id'] + sorted(candidate_columns)]\n",
    "\n",
    "# 최종 시트 구성\n",
    "essential_sheets = {\n",
    "    'Question': all_sheets['Question'],\n",
    "    'Edge(Q-E)': all_sheets['Edge(Q-E)'],\n",
    "    'merged_exam': merged_exam\n",
    "}\n",
    "\n",
    "# 저장\n",
    "with pd.ExcelWriter(\"gwashi_minimal.xlsx\", engine='openpyxl') as writer:\n",
    "    for sheet_name, df in essential_sheets.items():\n",
    "        df.to_excel(writer, sheet_name=sheet_name, index=False)\n",
    "\n",
    "print(\"✅ 필수 시트만 포함된 gwashi_minimal.xlsx 생성 완료.\")"
   ]
  },
  {
   "cell_type": "code",
   "execution_count": 8,
   "id": "c97f3ba7",
   "metadata": {},
   "outputs": [
    {
     "name": "stdout",
     "output_type": "stream",
     "text": [
      "✅ 병합 완료: 'gwashi_merged_qe.xlsx'로 저장되었습니다.\n"
     ]
    }
   ],
   "source": [
    "# 1. 엑셀 파일 불러오기\n",
    "file_path = \"./gwashi_minimal.xlsx\"\n",
    "xls = pd.ExcelFile(file_path)\n",
    "sheets = {sheet: xls.parse(sheet) for sheet in xls.sheet_names}\n",
    "\n",
    "# 2. 각 시트 로드\n",
    "questions = sheets['Question']\n",
    "exams = sheets['merged_exam']\n",
    "edge_qe = sheets['Edge(Q-E)']\n",
    "\n",
    "# 3. Edge(Q-E) 컬럼명 표준화\n",
    "edge_qe = edge_qe.rename(columns={\n",
    "    'source id': 'question_id',\n",
    "    'target id': 'exam_id'\n",
    "})\n",
    "\n",
    "# 4. 병합: Question ↔ Edge(Q-E)\n",
    "merged = questions.merge(edge_qe, left_on='id', right_on='question_id', how='left')\n",
    "\n",
    "# 5. 병합: + Exam 정보\n",
    "merged_df = merged.merge(exams, left_on='exam_id', right_on='id', how='left', suffixes=('_question', '_exam'))\n",
    "\n",
    "# 6. 결과 저장 (선택)\n",
    "merged_df.to_excel(\"gwashi_merged_qe.xlsx\", index=False)\n",
    "\n",
    "print(\"✅ 병합 완료: 'gwashi_merged_qe.xlsx'로 저장되었습니다.\")"
   ]
  },
  {
   "cell_type": "code",
   "execution_count": 16,
   "id": "7e63ae6c",
   "metadata": {},
   "outputs": [
    {
     "name": "stdout",
     "output_type": "stream",
     "text": [
      "2017-05-01 Intercalation\n",
      "정유년 병오월 임오일 (윤월)\n",
      "丁酉年 丙午月 壬午日 (閏月)\n"
     ]
    }
   ],
   "source": [
    "\n",
    "from korean_lunar_calendar import KoreanLunarCalendar\n",
    "calendar = KoreanLunarCalendar()\n",
    "\n",
    "# params : year(년), month(월), day(일)\n",
    "calendar.setSolarDate(2017, 6, 24)\n",
    "\n",
    "# Lunar Date (ISO Format)\n",
    "print(calendar.LunarIsoFormat())\n",
    "\n",
    "# Korean GapJa String\n",
    "print(calendar.getGapJaString())\n",
    "\n",
    "# Chinese GapJa String\n",
    "print(calendar.getChineseGapJaString())"
   ]
  },
  {
   "cell_type": "code",
   "execution_count": null,
   "id": "7e9fa1b1",
   "metadata": {},
   "outputs": [
    {
     "name": "stdout",
     "output_type": "stream",
     "text": [
      "✅ 간지 및 윤달 정보 추가 완료. 파일 저장됨: gwashi_qe_with_ganji.xlsx\n"
     ]
    }
   ],
   "source": [
    "import pandas as pd\n",
    "from korean_lunar_calendar import KoreanLunarCalendar\n",
    "\n",
    "# 엑셀 파일 경로\n",
    "file_path = \"./gwashi_merged_qe.xlsx\"\n",
    "\n",
    "# 파일 로딩\n",
    "df = pd.read_excel(file_path)\n",
    "\n",
    "# 1. question_id에서 서력 날짜 추출\n",
    "def extract_date(qid):\n",
    "    try:\n",
    "        if isinstance(qid, str) and qid.startswith('Q') and len(qid) >= 9:\n",
    "            return int(qid[1:5]), int(qid[5:7]), int(qid[7:9])\n",
    "    except:\n",
    "        return None, None, None\n",
    "    return None, None, None\n",
    "\n",
    "df[['year', 'month', 'day']] = df['question_id'].apply(lambda x: pd.Series(extract_date(x)))\n",
    "\n",
    "# 2. 간지 + 윤달 추출\n",
    "def get_lunar_info(y, m, d):\n",
    "    try:\n",
    "        cal = KoreanLunarCalendar()\n",
    "        cal.setSolarDate(y, m, d)\n",
    "        return (\n",
    "            cal.LunarIsoFormat(),            # e.g. '1795-07-12'\n",
    "            cal.getGapJaString(),           # e.g. '을묘(년) 경신(월) 병술(일)'\n",
    "            cal.getChineseGapJaString(),    # e.g. '乙卯(年) 庚申(月) 丙戌(日)'\n",
    "            cal.isIntercalation()           # 윤달 여부\n",
    "        )\n",
    "    except:\n",
    "        return None, None, None, None\n",
    "\n",
    "df[['lunar_date', 'ganji_kr', 'ganji_cn', 'is_leap_month']] = df.apply(\n",
    "    lambda row: pd.Series(get_lunar_info(row['year'], row['month'], row['day'])), axis=1\n",
    ")\n",
    "\n",
    "# 3. 저장\n",
    "df.to_excel(\"gwashi_merged_with_ganji.xlsx\", index=False)\n",
    "print(\"✅ 간지 및 윤달 정보가 추가된 파일이 저장되었습니다: gwashi_merged_with_ganji.xlsx\")"
   ]
  },
  {
   "cell_type": "code",
   "execution_count": 23,
   "id": "e7eaaf04",
   "metadata": {},
   "outputs": [
    {
     "name": "stdout",
     "output_type": "stream",
     "text": [
      "✅ 간지 및 윤달 정보 포함 파일 저장 완료: gwashi_debug_lunar_split.xlsx\n"
     ]
    }
   ],
   "source": [
    "from korean_lunar_calendar import KoreanLunarCalendar\n",
    "import pandas as pd\n",
    "import re\n",
    "\n",
    "# 1. 파일 로드\n",
    "df = pd.read_excel(\"./gwashi_merged_qe.xlsx\")\n",
    "\n",
    "# 2. 날짜 파싱\n",
    "def extract_date(qid):\n",
    "    try:\n",
    "        if isinstance(qid, str) and qid.startswith('Q') and len(qid) >= 9:\n",
    "            return int(qid[1:5]), int(qid[5:7]), int(qid[7:9])\n",
    "    except Exception as e:\n",
    "        print(f\"❌ 날짜 추출 실패: {qid} - {e}\")\n",
    "    return None, None, None\n",
    "\n",
    "df[['year', 'month', 'day']] = df['question_id'].apply(lambda x: pd.Series(extract_date(x)))\n",
    "\n",
    "# 3. 간지 및 윤달 여부 추출\n",
    "def get_lunar_info(y, m, d):\n",
    "    try:\n",
    "        if pd.isna(y) or pd.isna(m) or pd.isna(d):\n",
    "            return None, None, None, None, None, None, None, None\n",
    "        y, m, d = int(y), int(m), int(d)\n",
    "        cal = KoreanLunarCalendar()\n",
    "        cal.setSolarDate(y, m, d)\n",
    "\n",
    "        lunar_date = cal.LunarIsoFormat()\n",
    "        ganji_kr = cal.getGapJaString()              # 기해년 정축월 기축일\n",
    "        ganji_cn = cal.getChineseGapJaString()       # 己亥年 丁丑月 己丑日 (閏月)\n",
    "\n",
    "        # 한국식 간지 분리\n",
    "        ganji_kr_parts = ganji_kr.strip().split()\n",
    "        kr_year = ganji_kr_parts[0].replace('년', '') if len(ganji_kr_parts) > 0 else None\n",
    "        kr_month = ganji_kr_parts[1].replace('월', '') if len(ganji_kr_parts) > 1 else None\n",
    "        kr_day = ganji_kr_parts[2].replace('일', '') if len(ganji_kr_parts) > 2 else None\n",
    "\n",
    "        # 중국식 간지 분리 + 윤달 여부\n",
    "        is_leap = '閏月' in ganji_cn\n",
    "        match = re.search(r'(\\S{2})年\\s+(\\S{2})月\\s+(\\S{2})日', ganji_cn)\n",
    "        if match:\n",
    "            cn_year, cn_month, cn_day = match.groups()\n",
    "        else:\n",
    "            cn_year, cn_month, cn_day = None, None, None\n",
    "\n",
    "        return lunar_date, kr_year, kr_month, kr_day, cn_year, cn_month, cn_day, is_leap\n",
    "\n",
    "    except Exception as e:\n",
    "        print(f\"❌ 간지 변환 실패: {y}-{m}-{d} - {e}\")\n",
    "        return None, None, None, None, None, None, None, None\n",
    "\n",
    "# 4. 적용\n",
    "df[['lunar_date', 'ganji_kr_year', 'ganji_kr_month', 'ganji_kr_day',\n",
    "    'ganji_cn_year', 'ganji_cn_month', 'ganji_cn_day', 'is_leap_month']] = df.apply(\n",
    "    lambda row: pd.Series(get_lunar_info(row['year'], row['month'], row['day'])), axis=1\n",
    ")\n",
    "\n",
    "# 5. 저장\n",
    "df.to_excel(\"gwashi_debug_lunar_split.xlsx\", index=False)\n",
    "print(\"✅ 간지 및 윤달 정보 포함 파일 저장 완료: gwashi_debug_lunar_split.xlsx\")"
   ]
  },
  {
   "cell_type": "code",
   "execution_count": 18,
   "id": "6d349e62",
   "metadata": {},
   "outputs": [
    {
     "name": "stdout",
     "output_type": "stream",
     "text": [
      "1795-07-05\n",
      "을묘년 갑신월 갑인일\n",
      "乙卯年 甲申月 甲寅日\n"
     ]
    },
    {
     "ename": "TypeError",
     "evalue": "'bool' object is not callable",
     "output_type": "error",
     "traceback": [
      "\u001b[0;31m---------------------------------------------------------------------------\u001b[0m",
      "\u001b[0;31mTypeError\u001b[0m                                 Traceback (most recent call last)",
      "Cell \u001b[0;32mIn[18], line 9\u001b[0m\n\u001b[1;32m      7\u001b[0m \u001b[38;5;28mprint\u001b[39m(calendar\u001b[38;5;241m.\u001b[39mgetGapJaString())           \u001b[38;5;66;03m# 예: 을묘 경신 병술\u001b[39;00m\n\u001b[1;32m      8\u001b[0m \u001b[38;5;28mprint\u001b[39m(calendar\u001b[38;5;241m.\u001b[39mgetChineseGapJaString())    \u001b[38;5;66;03m# 예: 乙卯 庚申 丙戌\u001b[39;00m\n\u001b[0;32m----> 9\u001b[0m \u001b[38;5;28mprint\u001b[39m(\u001b[43mcalendar\u001b[49m\u001b[38;5;241;43m.\u001b[39;49m\u001b[43misIntercalation\u001b[49m\u001b[43m(\u001b[49m\u001b[43m)\u001b[49m)          \u001b[38;5;66;03m# 예: False\u001b[39;00m\n",
      "\u001b[0;31mTypeError\u001b[0m: 'bool' object is not callable"
     ]
    }
   ],
   "source": [
    "from korean_lunar_calendar import KoreanLunarCalendar\n",
    "\n",
    "calendar = KoreanLunarCalendar()\n",
    "calendar.setSolarDate(1795, 8, 19)\n",
    "\n",
    "print(calendar.LunarIsoFormat())           # 예: 1795-07-12\n",
    "print(calendar.getGapJaString())           # 예: 을묘 경신 병술\n",
    "print(calendar.getChineseGapJaString())    # 예: 乙卯 庚申 丙戌\n",
    "print(calendar.isIntercalation())          # 예: False"
   ]
  },
  {
   "cell_type": "code",
   "execution_count": null,
   "id": "ab7083ba",
   "metadata": {},
   "outputs": [],
   "source": []
  }
 ],
 "metadata": {
  "kernelspec": {
   "display_name": "Python 3",
   "language": "python",
   "name": "python3"
  },
  "language_info": {
   "codemirror_mode": {
    "name": "ipython",
    "version": 3
   },
   "file_extension": ".py",
   "mimetype": "text/x-python",
   "name": "python",
   "nbconvert_exporter": "python",
   "pygments_lexer": "ipython3",
   "version": "3.9.6"
  }
 },
 "nbformat": 4,
 "nbformat_minor": 5
}
