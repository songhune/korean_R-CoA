{
 "cells": [
  {
   "cell_type": "code",
   "execution_count": 10,
   "id": "9b391a0a",
   "metadata": {},
   "outputs": [
    {
     "ename": "KeyError",
     "evalue": "\"['name_work'] not in index\"",
     "output_type": "error",
     "traceback": [
      "\u001b[0;31m---------------------------------------------------------------------------\u001b[0m",
      "\u001b[0;31mKeyError\u001b[0m                                  Traceback (most recent call last)",
      "Cell \u001b[0;32mIn[10], line 60\u001b[0m\n\u001b[1;32m     53\u001b[0m \u001b[38;5;66;03m# Step 3: 필요한 열 선택 및 정리\u001b[39;00m\n\u001b[1;32m     54\u001b[0m columns_to_keep \u001b[38;5;241m=\u001b[39m [\n\u001b[1;32m     55\u001b[0m     \u001b[38;5;124m\"\u001b[39m\u001b[38;5;124mtarget id\u001b[39m\u001b[38;5;124m\"\u001b[39m, \u001b[38;5;124m\"\u001b[39m\u001b[38;5;124mname_work\u001b[39m\u001b[38;5;124m\"\u001b[39m, \u001b[38;5;124m\"\u001b[39m\u001b[38;5;124mstyle\u001b[39m\u001b[38;5;124m\"\u001b[39m,        \u001b[38;5;66;03m# Work\u001b[39;00m\n\u001b[1;32m     56\u001b[0m     \u001b[38;5;124m\"\u001b[39m\u001b[38;5;124msource id\u001b[39m\u001b[38;5;124m\"\u001b[39m, \u001b[38;5;124m\"\u001b[39m\u001b[38;5;124minstitution\u001b[39m\u001b[38;5;124m\"\u001b[39m, \u001b[38;5;124m\"\u001b[39m\u001b[38;5;124mperiod\u001b[39m\u001b[38;5;124m\"\u001b[39m,     \u001b[38;5;66;03m# Publication\u001b[39;00m\n\u001b[1;32m     57\u001b[0m     \u001b[38;5;124m\"\u001b[39m\u001b[38;5;124mtarget id_pc\u001b[39m\u001b[38;5;124m\"\u001b[39m, \u001b[38;5;124m\"\u001b[39m\u001b[38;5;124mname_coll\u001b[39m\u001b[38;5;124m\"\u001b[39m, \u001b[38;5;124m\"\u001b[39m\u001b[38;5;124mauthor\u001b[39m\u001b[38;5;124m\"\u001b[39m, \u001b[38;5;124m\"\u001b[39m\u001b[38;5;124mtype_coll\u001b[39m\u001b[38;5;124m\"\u001b[39m  \u001b[38;5;66;03m# Collection\u001b[39;00m\n\u001b[1;32m     58\u001b[0m ]\n\u001b[0;32m---> 60\u001b[0m merged_final \u001b[38;5;241m=\u001b[39m \u001b[43mmerged_pwc\u001b[49m\u001b[43m[\u001b[49m\u001b[43mcolumns_to_keep\u001b[49m\u001b[43m]\u001b[49m\u001b[38;5;241m.\u001b[39mcopy()\n\u001b[1;32m     62\u001b[0m \u001b[38;5;66;03m# 컬럼 이름 정제\u001b[39;00m\n\u001b[1;32m     63\u001b[0m merged_final\u001b[38;5;241m.\u001b[39mcolumns \u001b[38;5;241m=\u001b[39m [\n\u001b[1;32m     64\u001b[0m     \u001b[38;5;124m\"\u001b[39m\u001b[38;5;124mwork_id\u001b[39m\u001b[38;5;124m\"\u001b[39m, \u001b[38;5;124m\"\u001b[39m\u001b[38;5;124mwork_title\u001b[39m\u001b[38;5;124m\"\u001b[39m, \u001b[38;5;124m\"\u001b[39m\u001b[38;5;124mwork_style\u001b[39m\u001b[38;5;124m\"\u001b[39m,\n\u001b[1;32m     65\u001b[0m     \u001b[38;5;124m\"\u001b[39m\u001b[38;5;124mpublication_id\u001b[39m\u001b[38;5;124m\"\u001b[39m, \u001b[38;5;124m\"\u001b[39m\u001b[38;5;124mpublisher\u001b[39m\u001b[38;5;124m\"\u001b[39m, \u001b[38;5;124m\"\u001b[39m\u001b[38;5;124mpublished_year\u001b[39m\u001b[38;5;124m\"\u001b[39m,\n\u001b[1;32m     66\u001b[0m     \u001b[38;5;124m\"\u001b[39m\u001b[38;5;124mcollection_id\u001b[39m\u001b[38;5;124m\"\u001b[39m, \u001b[38;5;124m\"\u001b[39m\u001b[38;5;124mcollection_title\u001b[39m\u001b[38;5;124m\"\u001b[39m, \u001b[38;5;124m\"\u001b[39m\u001b[38;5;124mcompiler\u001b[39m\u001b[38;5;124m\"\u001b[39m, \u001b[38;5;124m\"\u001b[39m\u001b[38;5;124mcollection_type\u001b[39m\u001b[38;5;124m\"\u001b[39m\n\u001b[1;32m     67\u001b[0m ]\n",
      "File \u001b[0;32m~/.pyenv/versions/llm/lib/python3.10/site-packages/pandas/core/frame.py:4108\u001b[0m, in \u001b[0;36mDataFrame.__getitem__\u001b[0;34m(self, key)\u001b[0m\n\u001b[1;32m   4106\u001b[0m     \u001b[38;5;28;01mif\u001b[39;00m is_iterator(key):\n\u001b[1;32m   4107\u001b[0m         key \u001b[38;5;241m=\u001b[39m \u001b[38;5;28mlist\u001b[39m(key)\n\u001b[0;32m-> 4108\u001b[0m     indexer \u001b[38;5;241m=\u001b[39m \u001b[38;5;28;43mself\u001b[39;49m\u001b[38;5;241;43m.\u001b[39;49m\u001b[43mcolumns\u001b[49m\u001b[38;5;241;43m.\u001b[39;49m\u001b[43m_get_indexer_strict\u001b[49m\u001b[43m(\u001b[49m\u001b[43mkey\u001b[49m\u001b[43m,\u001b[49m\u001b[43m \u001b[49m\u001b[38;5;124;43m\"\u001b[39;49m\u001b[38;5;124;43mcolumns\u001b[39;49m\u001b[38;5;124;43m\"\u001b[39;49m\u001b[43m)\u001b[49m[\u001b[38;5;241m1\u001b[39m]\n\u001b[1;32m   4110\u001b[0m \u001b[38;5;66;03m# take() does not accept boolean indexers\u001b[39;00m\n\u001b[1;32m   4111\u001b[0m \u001b[38;5;28;01mif\u001b[39;00m \u001b[38;5;28mgetattr\u001b[39m(indexer, \u001b[38;5;124m\"\u001b[39m\u001b[38;5;124mdtype\u001b[39m\u001b[38;5;124m\"\u001b[39m, \u001b[38;5;28;01mNone\u001b[39;00m) \u001b[38;5;241m==\u001b[39m \u001b[38;5;28mbool\u001b[39m:\n",
      "File \u001b[0;32m~/.pyenv/versions/llm/lib/python3.10/site-packages/pandas/core/indexes/base.py:6200\u001b[0m, in \u001b[0;36mIndex._get_indexer_strict\u001b[0;34m(self, key, axis_name)\u001b[0m\n\u001b[1;32m   6197\u001b[0m \u001b[38;5;28;01melse\u001b[39;00m:\n\u001b[1;32m   6198\u001b[0m     keyarr, indexer, new_indexer \u001b[38;5;241m=\u001b[39m \u001b[38;5;28mself\u001b[39m\u001b[38;5;241m.\u001b[39m_reindex_non_unique(keyarr)\n\u001b[0;32m-> 6200\u001b[0m \u001b[38;5;28;43mself\u001b[39;49m\u001b[38;5;241;43m.\u001b[39;49m\u001b[43m_raise_if_missing\u001b[49m\u001b[43m(\u001b[49m\u001b[43mkeyarr\u001b[49m\u001b[43m,\u001b[49m\u001b[43m \u001b[49m\u001b[43mindexer\u001b[49m\u001b[43m,\u001b[49m\u001b[43m \u001b[49m\u001b[43maxis_name\u001b[49m\u001b[43m)\u001b[49m\n\u001b[1;32m   6202\u001b[0m keyarr \u001b[38;5;241m=\u001b[39m \u001b[38;5;28mself\u001b[39m\u001b[38;5;241m.\u001b[39mtake(indexer)\n\u001b[1;32m   6203\u001b[0m \u001b[38;5;28;01mif\u001b[39;00m \u001b[38;5;28misinstance\u001b[39m(key, Index):\n\u001b[1;32m   6204\u001b[0m     \u001b[38;5;66;03m# GH 42790 - Preserve name from an Index\u001b[39;00m\n",
      "File \u001b[0;32m~/.pyenv/versions/llm/lib/python3.10/site-packages/pandas/core/indexes/base.py:6252\u001b[0m, in \u001b[0;36mIndex._raise_if_missing\u001b[0;34m(self, key, indexer, axis_name)\u001b[0m\n\u001b[1;32m   6249\u001b[0m     \u001b[38;5;28;01mraise\u001b[39;00m \u001b[38;5;167;01mKeyError\u001b[39;00m(\u001b[38;5;124mf\u001b[39m\u001b[38;5;124m\"\u001b[39m\u001b[38;5;124mNone of [\u001b[39m\u001b[38;5;132;01m{\u001b[39;00mkey\u001b[38;5;132;01m}\u001b[39;00m\u001b[38;5;124m] are in the [\u001b[39m\u001b[38;5;132;01m{\u001b[39;00maxis_name\u001b[38;5;132;01m}\u001b[39;00m\u001b[38;5;124m]\u001b[39m\u001b[38;5;124m\"\u001b[39m)\n\u001b[1;32m   6251\u001b[0m not_found \u001b[38;5;241m=\u001b[39m \u001b[38;5;28mlist\u001b[39m(ensure_index(key)[missing_mask\u001b[38;5;241m.\u001b[39mnonzero()[\u001b[38;5;241m0\u001b[39m]]\u001b[38;5;241m.\u001b[39munique())\n\u001b[0;32m-> 6252\u001b[0m \u001b[38;5;28;01mraise\u001b[39;00m \u001b[38;5;167;01mKeyError\u001b[39;00m(\u001b[38;5;124mf\u001b[39m\u001b[38;5;124m\"\u001b[39m\u001b[38;5;132;01m{\u001b[39;00mnot_found\u001b[38;5;132;01m}\u001b[39;00m\u001b[38;5;124m not in index\u001b[39m\u001b[38;5;124m\"\u001b[39m)\n",
      "\u001b[0;31mKeyError\u001b[0m: \"['name_work'] not in index\""
     ]
    }
   ],
   "source": [
    "import pandas as pd\n",
    "\n",
    "# 파일 경로\n",
    "input_path = \"temp.xlsx\"\n",
    "output_path = \"merged_final_from_temp.xlsx\"\n",
    "\n",
    "# 모든 시트 불러오기\n",
    "xlsx = pd.read_excel(input_path, sheet_name=None)\n",
    "\n",
    "# 시트 분리\n",
    "df_work = xlsx[\"Work\"]\n",
    "df_pub = xlsx[\"Publication\"]\n",
    "df_coll = xlsx[\"Collection\"]\n",
    "edge_pw = xlsx[\"Edge_(Pub-W)\"]\n",
    "edge_pc = xlsx[\"Edge_(Pub-C)\"]\n",
    "\n",
    "# Step 1: Publication ↔ Work 연결 (Pub-W 엣지 기준)\n",
    "merged_pw = pd.merge(\n",
    "    edge_pw,\n",
    "    df_pub,\n",
    "    how=\"left\",\n",
    "    left_on=\"source id\",\n",
    "    right_on=\"id\",\n",
    "    suffixes=('', '_pub')\n",
    ")\n",
    "merged_pw = pd.merge(\n",
    "    merged_pw,\n",
    "    df_work,\n",
    "    how=\"left\",\n",
    "    left_on=\"target id\",\n",
    "    right_on=\"id\",\n",
    "    suffixes=('', '_work')\n",
    ")\n",
    "\n",
    "# Step 2: Publication ↔ Collection 연결 (Pub-C 엣지 기준)\n",
    "merged_pwc = pd.merge(\n",
    "    merged_pw,\n",
    "    edge_pc,\n",
    "    how=\"left\",\n",
    "    left_on=\"source id\",\n",
    "    right_on=\"source id\",\n",
    "    suffixes=('', '_pc')\n",
    ")\n",
    "merged_pwc = pd.merge(\n",
    "    merged_pwc,\n",
    "    df_coll,\n",
    "    how=\"left\",\n",
    "    left_on=\"target id_pc\",\n",
    "    right_on=\"id\",\n",
    "    suffixes=('', '_coll')\n",
    ")\n",
    "\n",
    "# Step 3: 필요한 열 선택 및 정리\n",
    "columns_to_keep = [\n",
    "    \"target id\", \"name_work\", \"style\",        # Work\n",
    "    \"source id\", \"institution\", \"period\",     # Publication\n",
    "    \"target id_pc\", \"name_coll\", \"author\", \"type_coll\"  # Collection\n",
    "]\n",
    "\n",
    "merged_final = merged_pwc[columns_to_keep].copy()\n",
    "\n",
    "# 컬럼 이름 정제\n",
    "merged_final.columns = [\n",
    "    \"work_id\", \"work_title\", \"work_style\",\n",
    "    \"publication_id\", \"publisher\", \"published_year\",\n",
    "    \"collection_id\", \"collection_title\", \"compiler\", \"collection_type\"\n",
    "]\n",
    "\n",
    "# Step 4: 엑셀로 저장\n",
    "with pd.ExcelWriter(output_path, engine='openpyxl', mode='w') as writer:\n",
    "    merged_final.to_excel(writer, sheet_name=\"Merged_WPC\", index=False)\n",
    "\n",
    "print(f\"✅ 병합 완료: {output_path}\")"
   ]
  },
  {
   "cell_type": "code",
   "execution_count": 4,
   "id": "371af4b8",
   "metadata": {},
   "outputs": [
    {
     "name": "stdout",
     "output_type": "stream",
     "text": [
      "['Unnamed: 0', 'source class', 'source id', 'source name', 'target class', 'target id', 'target name', 'relation', 'attribute', '작업자', 'Unnamed: 0_pub', 'id', 'name', 'period', 'type', 'institution', 'provider', 'Unnamed: 7', 'Unnamed: 8', 'Unnamed: 9', 'id_work', 'name_work', 'korname', 'chiname', 'titleExam', 'style', 'original', 'translation', 'url', 'Unnamed: 9_work', 'Unnamed: 0_pc', 'source class_pc', 'source name_pc', 'target class_pc', 'target id_pc', 'target name_pc', 'relation_pc', 'attribute_pc', '작업자_pc', 'Unnamed: 0_coll', 'id_coll', 'name_coll', 'korname_coll', 'chiname_coll', 'author', 'type_coll', 'Unnamed: 7_coll']\n"
     ]
    }
   ],
   "source": [
    "print(merged_wpc.columns.tolist())"
   ]
  },
  {
   "cell_type": "code",
   "execution_count": null,
   "id": "e773c9b9",
   "metadata": {},
   "outputs": [],
   "source": []
  }
 ],
 "metadata": {
  "kernelspec": {
   "display_name": "llm",
   "language": "python",
   "name": "python3"
  },
  "language_info": {
   "codemirror_mode": {
    "name": "ipython",
    "version": 3
   },
   "file_extension": ".py",
   "mimetype": "text/x-python",
   "name": "python",
   "nbconvert_exporter": "python",
   "pygments_lexer": "ipython3",
   "version": "3.10.10"
  }
 },
 "nbformat": 4,
 "nbformat_minor": 5
}
