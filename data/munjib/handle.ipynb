{
 "cells": [
  {
   "cell_type": "markdown",
   "id": "9d404716",
   "metadata": {},
   "source": [
    "# WPC 만들기"
   ]
  },
  {
   "cell_type": "code",
   "execution_count": null,
   "id": "9b391a0a",
   "metadata": {},
   "outputs": [],
   "source": [
    "import pandas as pd\n",
    "\n",
    "# 1. 엑셀 파일 경로\n",
    "file_path = \".xlsx\"  # 필요시 경로 수정\n",
    "\n",
    "# 2. 시트 불러오기\n",
    "df_work = pd.read_excel(file_path, sheet_name=\"Work\")\n",
    "df_pub = pd.read_excel(file_path, sheet_name=\"Publication\")\n",
    "df_col = pd.read_excel(file_path, sheet_name=\"Collection\")\n",
    "df_edge_pub_w = pd.read_excel(file_path, sheet_name=\"Edge_(Pub-W)\")\n",
    "df_edge_pub_c = pd.read_excel(file_path, sheet_name=\"Edge_(Pub-C)\")\n",
    "\n",
    "# 3. 병합용 원본 ID 보존\n",
    "df_work[\"work_id_orig\"] = df_work[\"id\"]\n",
    "df_pub[\"pub_id_orig\"] = df_pub[\"id\"]\n",
    "df_col[\"col_id_orig\"] = df_col[\"id\"]\n",
    "\n",
    "# 4. 컬럼 prefix 부여\n",
    "df_work_prefixed = df_work.rename(columns=lambda x: f\"work_{x}\" if x != \"work_id_orig\" else x)\n",
    "df_pub_prefixed = df_pub.rename(columns=lambda x: f\"pub_{x}\" if x != \"pub_id_orig\" else x)\n",
    "df_col_prefixed = df_col.rename(columns=lambda x: f\"col_{x}\" if x != \"col_id_orig\" else x)\n",
    "\n",
    "# 5. 엣지 병합\n",
    "edge_pub_w = df_edge_pub_w.rename(columns={\"source id\": \"pub_id\", \"target id\": \"work_id\"})\n",
    "edge_pub_c = df_edge_pub_c.rename(columns={\"source id\": \"pub_id\", \"target id\": \"col_id\"})\n",
    "pub_core = pd.merge(edge_pub_c, edge_pub_w, on=\"pub_id\", how=\"outer\")\n",
    "\n",
    "# 6. 정보 병합 (ID 기준, prefix 이전 ID 사용)\n",
    "pub_core = pub_core.merge(df_pub_prefixed, left_on=\"pub_id\", right_on=\"pub_id_orig\", how=\"left\")\n",
    "pub_core = pub_core.merge(df_work_prefixed, left_on=\"work_id\", right_on=\"work_id_orig\", how=\"left\")\n",
    "pub_core = pub_core.merge(df_col_prefixed, left_on=\"col_id\", right_on=\"col_id_orig\", how=\"left\")\n",
    "\n",
    "# 7. 연결된 ID 목록 추출\n",
    "linked_work_ids = pub_core['work_id_x'].dropna().unique().tolist()\n",
    "linked_pub_ids = pub_core['pub_id_x'].dropna().unique().tolist()\n",
    "linked_col_ids = pub_core['col_id_x'].dropna().unique().tolist()\n",
    "# 8. 단독 항목 추출\n",
    "solo_work = df_work_prefixed[~df_work_prefixed['work_id_orig'].isin(linked_work_ids)].copy()\n",
    "solo_pub = df_pub_prefixed[~df_pub_prefixed['pub_id_orig'].isin(linked_pub_ids)].copy()\n",
    "solo_col = df_col_prefixed[~df_col_prefixed['col_id_orig'].isin(linked_col_ids)].copy()\n",
    "\n",
    "# 9. 최종 출력 컬럼 정의\n",
    "final_columns = [\n",
    "    'col_id_orig', 'col_name',\n",
    "    'pub_id_orig', 'pub_name',\n",
    "    'work_id_orig', 'work_korname', 'work_chiname',\n",
    "    'work_titleExam', 'work_style', 'work_original', 'work_translation', 'work_url'\n",
    "]\n",
    "\n",
    "# 10. 누락 컬럼 보완 및 정렬\n",
    "for df in [solo_work, solo_pub, solo_col]:\n",
    "    for col in final_columns:\n",
    "        if col not in df.columns:\n",
    "            df[col] = None\n",
    "    df = df[final_columns]\n",
    "\n",
    "pub_core_final = pub_core[final_columns]\n",
    "\n",
    "# 11. 전체 병합\n",
    "full_merged = pd.concat([pub_core_final, solo_work, solo_pub, solo_col], ignore_index=True)\n",
    "\n",
    "# 12. 저장\n",
    "full_merged.to_csv(\"full_merged_with_prefix.csv\", index=False)"
   ]
  },
  {
   "cell_type": "markdown",
   "id": "e773c9b9",
   "metadata": {},
   "source": [
    "### EPQA생성"
   ]
  },
  {
   "cell_type": "code",
   "execution_count": 32,
   "id": "8bdfa105",
   "metadata": {},
   "outputs": [
    {
     "name": "stdout",
     "output_type": "stream",
     "text": [
      "✅ Step 1 (PA) 저장: (1090, 21)\n",
      "✅ Step 2 (QE) 저장: (940, 19)\n"
     ]
    }
   ],
   "source": [
    "import pandas as pd\n",
    "\n",
    "# === 경로 설정 ===\n",
    "epqa_path = \"EPQA.xlsx\"\n",
    "\n",
    "# === 시트 로드 ===\n",
    "df_person = pd.read_excel(epqa_path, sheet_name=\"Person\").rename(columns={\"id\": \"person_id\"})\n",
    "df_answer = pd.read_excel(epqa_path, sheet_name=\"Answer\").rename(columns={\"id\": \"answer_id\"})\n",
    "df_question = pd.read_excel(epqa_path, sheet_name=\"Question\").rename(columns={\"id\": \"question_id\", \"name\": \"Q_name\"})\n",
    "df_exam = pd.read_excel(epqa_path, sheet_name=\"Exam\").rename(columns={\"id\": \"exam_id\", \"name\": \"E_name\"})\n",
    "\n",
    "df_edge_pea = pd.read_excel(epqa_path, sheet_name=\"Edge_(Pe-A)\").rename(columns={\"source id\": \"person_id\", \"target id\": \"answer_id\"}).dropna().drop_duplicates()\n",
    "df_edge_aq = pd.read_excel(epqa_path, sheet_name=\"Edge_(A-Q)\").rename(columns={\"source id\": \"answer_id\", \"target id\": \"question_id\"}).dropna().drop_duplicates()\n",
    "df_edge_qe = pd.read_excel(epqa_path, sheet_name=\"Edge_(Q-E)\").rename(columns={\"source id\": \"question_id\", \"target id\": \"exam_id\"}).dropna().drop_duplicates()\n",
    "\n",
    "# === 단계 1: Person + Answer (via Edge) ===\n",
    "df_pa = df_edge_pea.merge(df_person, on=\"person_id\", how=\"left\") \\\n",
    "                   .merge(df_answer, on=\"answer_id\", how=\"left\")\n",
    "df_pa.to_excel(\"step1_PA.xlsx\", index=False)\n",
    "print(\"✅ Step 1 (PA) 저장:\", df_pa.shape)\n",
    "\n",
    "# === 단계 2: Question + Exam (via Edge) ===\n",
    "df_qe = df_edge_qe.merge(df_question, on=\"question_id\", how=\"left\") \\\n",
    "                  .merge(df_exam, on=\"exam_id\", how=\"left\")\n",
    "df_qe.to_excel(\"step2_QE.xlsx\", index=False)\n",
    "print(\"✅ Step 2 (QE) 저장:\", df_qe.shape)"
   ]
  },
  {
   "cell_type": "code",
   "execution_count": 29,
   "id": "aea9acc6",
   "metadata": {},
   "outputs": [
    {
     "data": {
      "text/html": [
       "<div>\n",
       "<style scoped>\n",
       "    .dataframe tbody tr th:only-of-type {\n",
       "        vertical-align: middle;\n",
       "    }\n",
       "\n",
       "    .dataframe tbody tr th {\n",
       "        vertical-align: top;\n",
       "    }\n",
       "\n",
       "    .dataframe thead th {\n",
       "        text-align: right;\n",
       "    }\n",
       "</style>\n",
       "<table border=\"1\" class=\"dataframe\">\n",
       "  <thead>\n",
       "    <tr style=\"text-align: right;\">\n",
       "      <th></th>\n",
       "      <th>person_id</th>\n",
       "      <th>answer_id</th>\n",
       "      <th>question_id</th>\n",
       "      <th>exam_id</th>\n",
       "      <th>source name</th>\n",
       "    </tr>\n",
       "  </thead>\n",
       "  <tbody>\n",
       "    <tr>\n",
       "      <th>0</th>\n",
       "      <td>PE0000</td>\n",
       "      <td>A17401005SS314</td>\n",
       "      <td>Q17401005SS314</td>\n",
       "      <td>E17401005SS3</td>\n",
       "      <td>1740년_증광_생원시_복시_문제</td>\n",
       "    </tr>\n",
       "    <tr>\n",
       "      <th>1</th>\n",
       "      <td>PE000000LBS</td>\n",
       "      <td>A18350808SF322</td>\n",
       "      <td>Q18350808SF322</td>\n",
       "      <td>E18350808SF322</td>\n",
       "      <td>1835년_증광_생원시_초시_종장_문제</td>\n",
       "    </tr>\n",
       "    <tr>\n",
       "      <th>2</th>\n",
       "      <td>PE000000SSG</td>\n",
       "      <td>A18310219SF122</td>\n",
       "      <td>Q18310219SF122</td>\n",
       "      <td>E18310219SF1</td>\n",
       "      <td>1831년_식년_진사시_초시_문제</td>\n",
       "    </tr>\n",
       "    <tr>\n",
       "      <th>3</th>\n",
       "      <td>PE000000SYR</td>\n",
       "      <td>A18350806SF112</td>\n",
       "      <td>Q18350806SF112</td>\n",
       "      <td>E18350806SF112</td>\n",
       "      <td>1835년_증광_진사시_초시_초장_문제</td>\n",
       "    </tr>\n",
       "    <tr>\n",
       "      <th>4</th>\n",
       "      <td>PE1153600JC</td>\n",
       "      <td>AS15610819</td>\n",
       "      <td>Q15610819</td>\n",
       "      <td>E15610819</td>\n",
       "      <td>1561년_식년시_생원_전시_문제</td>\n",
       "    </tr>\n",
       "  </tbody>\n",
       "</table>\n",
       "</div>"
      ],
      "text/plain": [
       "     person_id       answer_id     question_id         exam_id  \\\n",
       "0       PE0000  A17401005SS314  Q17401005SS314    E17401005SS3   \n",
       "1  PE000000LBS  A18350808SF322  Q18350808SF322  E18350808SF322   \n",
       "2  PE000000SSG  A18310219SF122  Q18310219SF122    E18310219SF1   \n",
       "3  PE000000SYR  A18350806SF112  Q18350806SF112  E18350806SF112   \n",
       "4  PE1153600JC      AS15610819       Q15610819       E15610819   \n",
       "\n",
       "             source name  \n",
       "0     1740년_증광_생원시_복시_문제  \n",
       "1  1835년_증광_생원시_초시_종장_문제  \n",
       "2     1831년_식년_진사시_초시_문제  \n",
       "3  1835년_증광_진사시_초시_초장_문제  \n",
       "4     1561년_식년시_생원_전시_문제  "
      ]
     },
     "execution_count": 29,
     "metadata": {},
     "output_type": "execute_result"
    }
   ],
   "source": [
    "df_epqa_flat.head()"
   ]
  },
  {
   "cell_type": "code",
   "execution_count": 25,
   "id": "8ee67a83",
   "metadata": {},
   "outputs": [],
   "source": [
    "df_epqa_flat.to_excel(\"EPQA_flat.xlsx\", index=True)"
   ]
  },
  {
   "cell_type": "markdown",
   "id": "40aff934",
   "metadata": {},
   "source": [
    "## flat 열 핸드크래프트로 정리, 복붙열 정리"
   ]
  },
  {
   "cell_type": "code",
   "execution_count": 21,
   "id": "22484176",
   "metadata": {},
   "outputs": [],
   "source": [
    "import pandas as pd\n",
    "import re\n",
    "\n",
    "# 엑셀 파일 불러오기\n",
    "df = pd.read_excel('EPQA_flat_revised.xlsx')  # 파일명 변경\n",
    "\n",
    "# 정규식 패턴: 문자 1 + 숫자 3 + _ + 숫자 3 + 문자 1\n",
    "pattern = r'[A-Za-z]\\d{3}_\\d{3}[A-Za-z]'\n",
    "\n",
    "# Q_abstract 열에서 해당 패턴을 제거\n",
    "df['Q_abstract'] = df['Q_abstract'].astype(str).apply(lambda x: re.sub(pattern, '', x))\n",
    "\n",
    "# 결과 저장 (선택사항)\n",
    "df.to_excel('EPQA_cleaned.xlsx', index=False)"
   ]
  },
  {
   "cell_type": "code",
   "execution_count": 22,
   "id": "1c29d335",
   "metadata": {},
   "outputs": [
    {
     "name": "stdout",
     "output_type": "stream",
     "text": [
      "중복 행 개수: 0\n"
     ]
    }
   ],
   "source": [
    "import pandas as pd\n",
    "\n",
    "# 데이터 불러오기\n",
    "df = pd.read_excel('EPQA_cleaned.xlsx')  # 실제 파일명으로 변경\n",
    "duplicated_rows = df[df.duplicated()]\n",
    "print(f\"중복 행 개수: {len(duplicated_rows)}\")"
   ]
  },
  {
   "cell_type": "code",
   "execution_count": null,
   "id": "a4d1db6a",
   "metadata": {},
   "outputs": [],
   "source": []
  }
 ],
 "metadata": {
  "kernelspec": {
   "display_name": "llm",
   "language": "python",
   "name": "python3"
  },
  "language_info": {
   "codemirror_mode": {
    "name": "ipython",
    "version": 3
   },
   "file_extension": ".py",
   "mimetype": "text/x-python",
   "name": "python",
   "nbconvert_exporter": "python",
   "pygments_lexer": "ipython3",
   "version": "3.10.10"
  }
 },
 "nbformat": 4,
 "nbformat_minor": 5
}
